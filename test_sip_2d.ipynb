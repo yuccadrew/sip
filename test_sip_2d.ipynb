{
 "cells": [
  {
   "cell_type": "markdown",
   "id": "14ad93c4-fbbd-48b5-a207-87672f3b6711",
   "metadata": {},
   "source": [
    "# Getting Started"
   ]
  },
  {
   "cell_type": "code",
   "execution_count": null,
   "id": "08a0687b-0821-4cbe-8923-e43246dab90a",
   "metadata": {},
   "outputs": [],
   "source": [
    "# Naming conventions (to be modified)\n",
    "# 1. Use short variable names but not too short. So that any variable name can\n",
    "# be uniquely found using Ctrl+F\n",
    "# 2. Use number or underscore to concatenate words in one variable name"
   ]
  },
  {
   "cell_type": "markdown",
   "id": "9ed043d8-3901-489b-a46f-31179c6364fb",
   "metadata": {},
   "source": [
    "## Reset notebook"
   ]
  },
  {
   "cell_type": "code",
   "execution_count": 155,
   "id": "af7067dd-4150-42b3-8c8a-a5bd8a7a55f2",
   "metadata": {},
   "outputs": [
    {
     "name": "stdout",
     "output_type": "stream",
     "text": [
      "Interactive namespace is empty.\n"
     ]
    }
   ],
   "source": [
    "%reset -f\n",
    "%whos"
   ]
  },
  {
   "cell_type": "markdown",
   "id": "e41946b0-911b-4a41-8e01-394b89f1b53a",
   "metadata": {},
   "source": [
    "## Predefine variables"
   ]
  },
  {
   "cell_type": "code",
   "execution_count": 160,
   "id": "a777dfc3-42c4-4e0c-b557-ee08045a2384",
   "metadata": {},
   "outputs": [
    {
     "name": "stdout",
     "output_type": "stream",
     "text": [
      "Variable             Type       Data/Info\n",
      "-----------------------------------------\n",
      "a_e                  ndarray    0x3x3: 0 elems, type `float64`, 0 bytes\n",
      "a_n0                 ndarray    0x3x3: 0 elems, type `float64`, 0 bytes\n",
      "a_n1                 ndarray    0x3x3: 0 elems, type `float64`, 0 bytes\n",
      "a_s                  ndarray    0x3x3: 0 elems, type `float64`, 0 bytes\n",
      "alpha_xe             ndarray    0x3x3: 0 elems, type `float64`, 0 bytes\n",
      "alpha_xs             ndarray    0x3x3: 0 elems, type `float64`, 0 bytes\n",
      "alpha_ye             ndarray    0x3x3: 0 elems, type `float64`, 0 bytes\n",
      "beta_xe              ndarray    0x3x3: 0 elems, type `float64`, 0 bytes\n",
      "beta_xs              ndarray    0x3x3: 0 elems, type `float64`, 0 bytes\n",
      "beta_ze              ndarray    0x3x3: 0 elems, type `float64`, 0 bytes\n",
      "c_xe                 ndarray    0x3x3: 0 elems, type `float64`, 0 bytes\n",
      "c_xs                 ndarray    0x3x3: 0 elems, type `float64`, 0 bytes\n",
      "c_ye                 ndarray    0x3x3: 0 elems, type `float64`, 0 bytes\n",
      "edge_flags           ndarray    0: 0 elems, type `bool`, 0 bytes\n",
      "edges                ndarray    0x2: 0 elems, type `int64`, 0 bytes\n",
      "elem_flags           ndarray    0: 0 elems, type `bool`, 0 bytes\n",
      "elements             ndarray    0x3: 0 elems, type `int64`, 0 bytes\n",
      "f_e                  ndarray    0x3: 0 elems, type `float64`, 0 bytes\n",
      "f_n0                 ndarray    0x3: 0 elems, type `float64`, 0 bytes\n",
      "f_n1                 ndarray    0x3: 0 elems, type `float64`, 0 bytes\n",
      "f_s                  ndarray    0x3: 0 elems, type `float64`, 0 bytes\n",
      "g_s0                 ndarray    0x3: 0 elems, type `float64`, 0 bytes\n",
      "g_s1                 ndarray    0x3: 0 elems, type `float64`, 0 bytes\n",
      "gamma_xe             ndarray    0x3: 0 elems, type `float64`, 0 bytes\n",
      "gamma_xs             ndarray    0x3: 0 elems, type `float64`, 0 bytes\n",
      "gamma_ye             ndarray    0x3: 0 elems, type `float64`, 0 bytes\n",
      "in_active_zones      ndarray    0: 0 elems, type `bool`, 0 bytes\n",
      "in_air               ndarray    0: 0 elems, type `bool`, 0 bytes\n",
      "in_electrolyte       ndarray    0: 0 elems, type `bool`, 0 bytes\n",
      "in_solid             ndarray    0: 0 elems, type `bool`, 0 bytes\n",
      "in_stern             ndarray    0: 0 elems, type `bool`, 0 bytes\n",
      "node_flags           ndarray    0: 0 elems, type `bool`, 0 bytes\n",
      "nodes                ndarray    0x2: 0 elems, type `float64`, 0 bytes\n",
      "on_first_kind_bc     ndarray    0x3: 0 elems, type `bool`, 0 bytes\n",
      "on_third_kind_bc     ndarray    0x3: 0 elems, type `bool`, 0 bytes\n",
      "q_s0                 ndarray    0x3: 0 elems, type `float64`, 0 bytes\n",
      "q_s1                 ndarray    0x3: 0 elems, type `float64`, 0 bytes\n",
      "s_n0                 ndarray    0x3: 0 elems, type `float64`, 0 bytes\n",
      "s_n1                 ndarray    0x3: 0 elems, type `float64`, 0 bytes\n",
      "with_first_kind_bc   ndarray    0x3: 0 elems, type `bool`, 0 bytes\n",
      "with_third_kind_bc   ndarray    0x3: 0 elems, type `bool`, 0 bytes\n"
     ]
    }
   ],
   "source": [
    "%reset -f\n",
    "import matplotlib.pyplot as plt\n",
    "import matplotlib.tri as tri\n",
    "plt.style.use('seaborn-poster')\n",
    "#plt.style.use('ggplot')\n",
    "\n",
    "import copy,os,subprocess,time\n",
    "import numpy as np\n",
    "import numpy.matlib\n",
    "from scipy import sparse\n",
    "from scipy.sparse import csr_matrix\n",
    "from scipy.sparse.linalg import spsolve\n",
    "\n",
    "#set physical constants\n",
    "echarge=1.602e-19 #elementary charge [C]\n",
    "perm0=8.85e-12 #vacuum permittivity [F/m]\n",
    "kA=6.022e23 #Avogadro's constant [1/mol]\n",
    "kB=1.381e-23 #Boltzmann's constant [J/K]\n",
    "kF=96485.0 #Faraday's constant [As/mol] equal to kA*echarge\n",
    "\n",
    "#predefine user input variables\n",
    "mesh_prefix='placeholder' #mesh prefix\n",
    "\n",
    "perm_a=0.0 #relative permittivity of electrolyte [SI]\n",
    "perm_i=0.0 #relative permittivity of solid [SI]\n",
    "temperature=0.0 #ambient temperature [K]\n",
    "\n",
    "n_ion=2 #number of ion types (0 means no diffuse layer)\n",
    "c_ion=[0.0]*n_ion #ion concentration at infinity [mol/m^3]\n",
    "z_ion=[0.0]*n_ion #ion valence or charge number [SI]\n",
    "q_ion=[0.0]*n_ion #electric charge (q) in [Coulombs]\n",
    "debye_len=[0.0]*n_ion #Debye length [m]\n",
    "mu_a=[0.0]*n_ion #ion mobility in electrolyte [m^2/(Vs)]\n",
    "mu_i=[0.0]*n_ion #ion mobility in solid [m^2/(Vs)]\n",
    "Diff_a=[0.0]*n_ion #diffusion coefficient in electrolyte [m^2/s]\n",
    "Diff_i=[0.0]*n_ion #diffusion coefficient in solid [m^2/s]\n",
    "\n",
    "#predefine mesh variables\n",
    "ndim=2 #2D simulation\n",
    "nnode=0 #number of total nodes\n",
    "nelem=0 #number of total triangular elements\n",
    "nedge=0 #number of total line segments\n",
    "\n",
    "nodes=np.zeros((nnode,ndim),dtype=float) #[X,Y]\n",
    "elements=np.zeros((nelem,ndim+1),dtype=int) #[ind_a,ind_b,ind_c]\n",
    "edges=np.zeros((nedge,ndim),dtype=int) #[ind_a,ind_b]\n",
    "\n",
    "node_flags=np.zeros(nnode,dtype=bool) #node flags\n",
    "elem_flags=np.zeros(nelem,dtype=bool) #zones\n",
    "edge_flags=np.zeros(nedge,dtype=bool) #edge flags\n",
    "\n",
    "#predefine mesh indexing variables\n",
    "in_air=np.zeros(nelem,dtype=bool)\n",
    "in_electrolyte=np.zeros(nelem,dtype=bool)\n",
    "in_solid=np.zeros(nelem,dtype=bool)\n",
    "in_active_zones=np.zeros(nelem,dtype=bool)\n",
    "in_stern=np.zeros(nedge,dtype=bool)\n",
    "\n",
    "with_first_kind_bc=np.zeros((nedge,n_ion+1),dtype=bool)\n",
    "with_third_kind_bc=np.zeros((nedge,n_ion+1),dtype=bool)\n",
    "\n",
    "on_first_kind_bc=np.zeros((nnode,n_ion+1),dtype=bool)\n",
    "on_third_kind_bc=np.zeros((nnode,n_ion+1),dtype=bool)\n",
    "\n",
    "#predefine material properties for air, electrolyte, and solid\n",
    "c_xe=np.zeros((nelem,n_ion+1,n_ion+1),dtype=float)\n",
    "c_ye=np.zeros((nelem,n_ion+1,n_ion+1),dtype=float)\n",
    "\n",
    "alpha_xe=np.zeros((nelem,n_ion+1,n_ion+1),dtype=float)\n",
    "alpha_ye=np.zeros((nelem,n_ion+1,n_ion+1),dtype=float)\n",
    "\n",
    "beta_xe=np.zeros((nelem,n_ion+1,n_ion+1),dtype=float)\n",
    "beta_ze=np.zeros((nelem,n_ion+1,n_ion+1),dtype=float)\n",
    "\n",
    "gamma_xe=np.zeros((nelem,n_ion+1),dtype=float)\n",
    "gamma_ye=np.zeros((nelem,n_ion+1),dtype=float)\n",
    "\n",
    "a_e=np.zeros((nelem,n_ion+1,n_ion+1),dtype=float)\n",
    "f_e=np.zeros((nelem,n_ion+1),dtype=float)\n",
    "g_s0=np.zeros((nedge,n_ion+1),dtype=float)\n",
    "q_s0=np.zeros((nedge,n_ion+1),dtype=float)\n",
    "s_n0=np.zeros((nnode,n_ion+1),dtype=float)\n",
    "a_n0=np.zeros((nnode,n_ion+1,n_ion+1),dtype=float)\n",
    "f_n0=np.zeros((nnode,n_ion+1),dtype=float)\n",
    "\n",
    "#predefine material properties for stern layer\n",
    "c_xs=np.zeros((nedge,n_ion+1,n_ion+1),dtype=float)\n",
    "alpha_xs=np.zeros((nedge,n_ion+1,n_ion+1),dtype=float)\n",
    "beta_xs=np.zeros((nedge,n_ion+1,n_ion+1),dtype=float)\n",
    "gamma_xs=np.zeros((nedge,n_ion+1),dtype=float)\n",
    "a_s=np.zeros((nedge,n_ion+1,n_ion+1),dtype=float)\n",
    "f_s=np.zeros((nedge,n_ion+1),dtype=float)\n",
    "g_s1=np.zeros((nedge,n_ion+1),dtype=float)\n",
    "q_s1=np.zeros((nedge,n_ion+1),dtype=float)\n",
    "s_n1=np.zeros((nnode,n_ion+1),dtype=float)\n",
    "a_n1=np.zeros((nnode,n_ion+1,n_ion+1),dtype=float)\n",
    "f_n1=np.zeros((nnode,n_ion+1),dtype=float)\n",
    "\n",
    "\n",
    "#https://www.wrighters.io/how-to-view-all-your-variables-in-a-jupyter-notebook/\n",
    "%whos ndarray\n"
   ]
  },
  {
   "cell_type": "code",
   "execution_count": 141,
   "id": "e14b2e9f-c66a-4073-8228-0c21e990040c",
   "metadata": {},
   "outputs": [
    {
     "name": "stdout",
     "output_type": "stream",
     "text": [
      "[0. 2.]\n"
     ]
    }
   ],
   "source": [
    "print(nodes)"
   ]
  },
  {
   "cell_type": "markdown",
   "id": "d1a648e7-ecd4-44fb-a928-1b60735d5dfd",
   "metadata": {},
   "source": [
    "# Global variables"
   ]
  },
  {
   "cell_type": "markdown",
   "id": "1f702c37-2687-439b-883a-6d9c8f497586",
   "metadata": {},
   "source": [
    "## User inputs"
   ]
  },
  {
   "cell_type": "code",
   "execution_count": 75,
   "id": "2e256e1f-b4c9-49f1-8f4c-8ce0d3251c10",
   "metadata": {},
   "outputs": [
    {
     "name": "stdout",
     "output_type": "stream",
     "text": [
      "Variable      Type     Data/Info\n",
      "--------------------------------\n",
      "c_ion         list     n=2\n",
      "echarge       float    1.602e-19\n",
      "kA            float    6.022e+23\n",
      "kB            float    1.381e-23\n",
      "kF            float    96485.0\n",
      "mesh_prefix   str      sphere_2d\n",
      "mu_a          list     n=2\n",
      "mu_s          list     n=2\n",
      "perm0         float    8.85e-12\n",
      "rel_perma     float    80.0\n",
      "rel_permi     float    4.5\n",
      "temperature   float    293.0\n",
      "z_ion         list     n=2\n"
     ]
    }
   ],
   "source": [
    "#Modify user inputs below\n",
    "mesh_prefix='sphere_2d'\n",
    "\n",
    "rel_perma=80.0 #relative permittivity of electrolyte\n",
    "rel_permi=4.5 #relative permittivity of solid\n",
    "\n",
    "temperature=293.0 #ambient temperature in [Kelvin]\n",
    "c_ion=[1.0,1.0] #ion concentration at infinity [mol/m^3]\n",
    "z_ion=[1,1] #ion valence or charge number [SI]\n",
    "\n",
    "mu_a=[5e-8,5e-8] #mobility of sodium cation in bulk electrolyte [m^2/(Vs)]\n",
    "mu_s=[5e-11,5e-11] #mobility in Stern layer [m^2/(Vs)]\n",
    "    \n",
    "#https://www.wrighters.io/how-to-view-all-your-variables-in-a-jupyter-notebook/\n",
    "%whos int\n",
    "print('')\n",
    "%whos\n"
   ]
  },
  {
   "cell_type": "markdown",
   "id": "9c716ace-d476-4f3a-8f1e-4e5244eb3fb2",
   "metadata": {},
   "source": [
    "## Preallocated variables"
   ]
  },
  {
   "cell_type": "code",
   "execution_count": null,
   "id": "1a142dbb-db13-4521-a973-5454fcc16a5f",
   "metadata": {},
   "outputs": [],
   "source": [
    "if __name__=='__main__':\n",
    "    #global variables\n",
    "    nnode=0 #number of nodes\n",
    "    nelem=0 #number of triangular elements\n",
    "    nedge=0 #number of line segments\n",
    "    \n",
    "    #physicsl constants\n",
    "    \n",
    "    \n",
    "    \n",
    "    print('Done')"
   ]
  },
  {
   "cell_type": "markdown",
   "id": "446b530f-e592-493b-ab72-7fb84786be09",
   "metadata": {},
   "source": [
    "## List of global variables"
   ]
  },
  {
   "cell_type": "code",
   "execution_count": 112,
   "id": "4a154cbb-b6f8-4908-ab68-f99e253290f9",
   "metadata": {},
   "outputs": [
    {
     "name": "stdout",
     "output_type": "stream",
     "text": [
      "<Variables sorted by Type>\n",
      "********************************************************************************\n",
      "Variable     Type      Data/Info\n",
      "--------------------------------\n",
      "copy         module    <module 'copy' from '/hom<...>/lib/python3.10/copy.py'>\n",
      "np           module    <module 'numpy' from '/ho<...>kages/numpy/__init__.py'>\n",
      "numpy        module    <module 'numpy' from '/ho<...>kages/numpy/__init__.py'>\n",
      "os           module    <module 'os' from '/home/<...>er/lib/python3.10/os.py'>\n",
      "plt          module    <module 'matplotlib.pyplo<...>es/matplotlib/pyplot.py'>\n",
      "sparse       module    <module 'scipy.sparse' fr<...>cipy/sparse/__init__.py'>\n",
      "subprocess   module    <module 'subprocess' from<...>ython3.10/subprocess.py'>\n",
      "time         module    <module 'time' (built-in)>\n",
      "tri          module    <module 'matplotlib.tri' <...>plotlib/tri/__init__.py'>\n",
      "\n",
      "Variable   Type        Data/Info\n",
      "--------------------------------\n",
      "spsolve    function    <function spsolve at 0x7f4f38188040>\n",
      "\n",
      "Variable     Type    Data/Info\n",
      "------------------------------\n",
      "csr_matrix   type    <class 'scipy.sparse._csr.csr_matrix'>\n"
     ]
    }
   ],
   "source": [
    "#https://www.wrighters.io/how-to-view-all-your-variables-in-a-jupyter-notebook/\n",
    "# print('All variables')\n",
    "# print('*' * 80)  # Drawings Horizontal Divider Line\n",
    "# %whos\n",
    "# print('')\n",
    "print('<Variables sorted by Type>')\n",
    "print('*' * 80)  # Drawings Horizontal Divider Line\n",
    "%whos module\n",
    "print('')\n",
    "%whos function\n",
    "print('')\n",
    "%whos type "
   ]
  },
  {
   "cell_type": "markdown",
   "id": "f453abed-9baa-4986-8a70-04748ab6d911",
   "metadata": {},
   "source": [
    "# Mesh Generation"
   ]
  },
  {
   "cell_type": "markdown",
   "id": "e4cf89c3-e747-4dd0-9b78-598c0383e3e1",
   "metadata": {},
   "source": [
    "## Sphere model (Thin DL)"
   ]
  },
  {
   "cell_type": "code",
   "execution_count": null,
   "id": "059fe85b-076c-4f1e-ae36-4f3d941e8fba",
   "metadata": {},
   "outputs": [],
   "source": []
  },
  {
   "cell_type": "code",
   "execution_count": null,
   "id": "500eeaf5-752a-430a-8fbf-b22de9bef9ed",
   "metadata": {},
   "outputs": [],
   "source": []
  },
  {
   "cell_type": "markdown",
   "id": "86049733-7f21-4faa-b06a-309da75a935a",
   "metadata": {},
   "source": [
    "# Test Case 1 (Pesudocode)"
   ]
  }
 ],
 "metadata": {
  "kernelspec": {
   "display_name": "Python 3 (ipykernel)",
   "language": "python",
   "name": "python3"
  },
  "language_info": {
   "codemirror_mode": {
    "name": "ipython",
    "version": 3
   },
   "file_extension": ".py",
   "mimetype": "text/x-python",
   "name": "python",
   "nbconvert_exporter": "python",
   "pygments_lexer": "ipython3",
   "version": "3.10.2"
  },
  "toc-autonumbering": true
 },
 "nbformat": 4,
 "nbformat_minor": 5
}
