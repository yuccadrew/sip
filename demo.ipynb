{
 "cells": [
  {
   "cell_type": "markdown",
   "id": "dcff858f",
   "metadata": {},
   "source": [
    "# Getting Started"
   ]
  },
  {
   "cell_type": "raw",
   "id": "d05e1543-36c4-4450-9153-8cbeb7443889",
   "metadata": {},
   "source": [
    "# 5/4/2022\n",
    "# mesh.py has been completed\n",
    "\n",
    "# 5/5/2022\n",
    "# Continue from completing materials.py and assembly.py\n",
    "# Use @classmethod for Air, Water,Solid, Domain,Stern, Robin, Dirichlet, Solver,\n",
    "# StaticDomain, StaticRobin, StaticDirichlet, StaticSolver, etc.\n",
    "# Add AFM model and run tests\n",
    "\n",
    "# 5/6/2022\n",
    "# Complete Stern, Robin, Dirichlet"
   ]
  },
  {
   "cell_type": "markdown",
   "id": "a321e110-1e41-4532-a475-bb903625c2b0",
   "metadata": {},
   "source": [
    "## Kernel functions"
   ]
  },
  {
   "cell_type": "code",
   "execution_count": 1,
   "id": "2c06f1de-0287-47f1-be05-5e5738fdc95a",
   "metadata": {},
   "outputs": [],
   "source": [
    "%load_ext autoreload\n",
    "%autoreload 2\n",
    "\n",
    "import numpy as np\n",
    "from lib.mesh import Complex,Mesh\n",
    "from lib.materials import Physics,PDE,Domain,Stern,Robin,Dirichlet\n",
    "from lib.assembly import StaticSolution,Solution"
   ]
  },
  {
   "cell_type": "markdown",
   "id": "fa1525e2-5b5a-4b86-a9c2-315fbec6ec20",
   "metadata": {
    "tags": []
   },
   "source": [
    "## List of variables"
   ]
  },
  {
   "cell_type": "code",
   "execution_count": 2,
   "id": "4abe5d6d",
   "metadata": {
    "tags": []
   },
   "outputs": [
    {
     "name": "stdout",
     "output_type": "stream",
     "text": [
      "Variable         Type      Data/Info\n",
      "------------------------------------\n",
      "Complex          type      <class 'lib.mesh.Complex'>\n",
      "Dirichlet        type      <class 'lib.materials.Dirichlet'>\n",
      "Domain           type      <class 'lib.materials.Domain'>\n",
      "Mesh             type      <class 'lib.mesh.Mesh'>\n",
      "PDE              type      <class 'lib.materials.PDE'>\n",
      "Physics          type      <class 'lib.materials.Physics'>\n",
      "Robin            type      <class 'lib.materials.Robin'>\n",
      "Solution         type      <class 'lib.assembly.Solution'>\n",
      "StaticSolution   type      <class 'lib.assembly.StaticSolution'>\n",
      "Stern            type      <class 'lib.materials.Stern'>\n",
      "np               module    <module 'numpy' from '/ho<...>kages/numpy/__init__.py'>\n"
     ]
    }
   ],
   "source": [
    "# This section will load user inputs and set global variables\n",
    "# Not implemented yet\n",
    "# Go to user inputs for desired test case as a temporary solution\n",
    "\n",
    "# Placeholder\n",
    "# Need to consider which variables are user inputs\n",
    "\n",
    "# E4D files\n",
    "# 1. file .inp\n",
    "# 2. file .sig\n",
    "# 3. file .cfg\n",
    "# 4. file .inv (skip for sip)\n",
    "# 5. file .out\n",
    "# 6. file .srv\n",
    "\n",
    "# Possible SIP files\n",
    "# 1. file .inp (specifies run_mode: 1 for mesh generation; 2 for static solution; 3 for coupled solution)\n",
    "# 2. file .hdf5 (stores mesh and material properties for domain equation and boundary equation)\n",
    "# 3. file .cfg (will generate .poly for triangle; will be compatible with sphere/slab/membrane models)\n",
    "# 4. file .out (specifies output options)\n",
    "# 5. file .srv (specifies survey/external field options)\n",
    "\n",
    "# print('='*80)\n",
    "# %whos module\n",
    "# print('='*80)\n",
    "# %whos type\n",
    "# print('='*80)\n",
    "# %whos str\n",
    "# print('='*80)\n",
    "# %whos int\n",
    "# print('='*80)\n",
    "# %whos float\n",
    "# print('='*80)\n",
    "# %whos list\n",
    "# print('='*80)\n",
    "# %whos dict\n",
    "# print('='*80)\n",
    "# %whos ndarray matrix\n",
    "# print('='*80)\n",
    "# %whos function\n",
    "%whos"
   ]
  },
  {
   "cell_type": "markdown",
   "id": "ac9f8bee-0684-403b-9dfa-5db1ba4ef509",
   "metadata": {},
   "source": [
    "# Example 1"
   ]
  },
  {
   "cell_type": "markdown",
   "id": "de714038-cbf5-4388-b0d8-64935f7d6f97",
   "metadata": {},
   "source": [
    "## User inputs"
   ]
  },
  {
   "cell_type": "code",
   "execution_count": 3,
   "id": "251aebde-265e-4f4a-b459-b2264d3100d4",
   "metadata": {},
   "outputs": [
    {
     "name": "stdout",
     "output_type": "stream",
     "text": [
      "Reading slab_2d.1.node\n",
      "Reading slab_2d.1.ele\n",
      "Reading slab_2d.1.edge\n",
      "\n",
      "Computing shape functions of triangular elements\n",
      "This will take a minute\n",
      "Time elapsed  0.2950255870819092 sec\n",
      "\n",
      "Computing shape functions of line segments\n",
      "This will take a minute\n",
      "Time elapsed  0.03809380531311035 sec\n",
      "\n",
      "Elemental PDE system is: 1 by 1\n",
      "\n",
      "Done\n"
     ]
    }
   ],
   "source": [
    "def build_f(x,y,*args):\n",
    "    dist = np.sqrt(x**2+y**2)\n",
    "    f = np.zeros_like(dist)\n",
    "    mask = dist>0\n",
    "    f[mask] = np.pi/2.0*(1/dist[mask]*np.sin(np.pi*dist[mask]/2.0)\n",
    "                         +np.pi/2.0*np.cos(np.pi*dist[mask]/2.0))\n",
    "    f[~mask] = np.pi/2.0*(np.pi/2.0+np.pi/2.0)\n",
    "    return f\n",
    "\n",
    "def build_s(x,y,*args):\n",
    "    dist = np.sqrt(x**2+y**2)\n",
    "    s = np.cos(np.pi*dist/2.0)\n",
    "    return s\n",
    "\n",
    "mesh = Mesh.importer(\n",
    "    prefix = 'slab_2d',\n",
    "    triangle = 'triangle',\n",
    "    axis_symmetry = 'None',\n",
    "    )\n",
    "\n",
    "pde = PDE(\n",
    "    c_x = {'is_inside_domain':[[1.0]]},\n",
    "    c_y = {'is_inside_domain':[[1.0]]},\n",
    "    f_n = {'is_on_inside_domain':[build_f]},\n",
    "    s_n = {'is_on_outer_bound':[build_s]},\n",
    "    )\n",
    "\n",
    "print('Done')"
   ]
  },
  {
   "cell_type": "markdown",
   "id": "587983bb-5bb4-4482-9fc8-981e61cd3afb",
   "metadata": {},
   "source": [
    "## Solution"
   ]
  },
  {
   "cell_type": "code",
   "execution_count": 10,
   "id": "ebae74f0-5920-4782-85ee-362e314e0c8d",
   "metadata": {},
   "outputs": [
    {
     "name": "stdout",
     "output_type": "stream",
     "text": [
      "gamma_x (14213, 1)\n",
      "gamma_y (14213, 1)\n",
      "f (14213, 1)\n",
      "f_n (7171, 1)\n",
      "f_d (7171, 1)\n",
      "gamma_x (14213, 1)\n",
      "gamma_y (14213, 1)\n",
      "f (14213, 1)\n",
      "f_n (7171, 1)\n",
      "f_d (7171, 1)\n"
     ]
    }
   ],
   "source": [
    "domain = Domain(mesh,pde)\n",
    "stern = Stern(mesh,pde)\n",
    "robin = Robin(mesh,pde)\n",
    "dirichlet = Dirichlet(mesh,pde)\n"
   ]
  },
  {
   "cell_type": "markdown",
   "id": "56baa33f-7650-49c7-b4b5-229a4ab23964",
   "metadata": {},
   "source": [
    "# Example 2"
   ]
  },
  {
   "cell_type": "code",
   "execution_count": null,
   "id": "4a399c8e-d7f4-4328-a4d4-246e3ab4664c",
   "metadata": {},
   "outputs": [],
   "source": [
    "slab = Complex.init_slab(\n",
    "    radius_air = 1.0, #radius of air\n",
    "    height_air = 1.0, #height of air\n",
    "    radius_water = 1.0, #radius of water\n",
    "    height_water = 0.2, #height of water\n",
    "    radius_solid = 1.0, #radius of solid\n",
    "    height_solid = 1.0, #height of solid\n",
    "    axis_symmetry = 'None', #X, or Y, or None\n",
    "    )\n",
    "slab.visualize()\n",
    "\n",
    "mesh = Mesh.builder(\n",
    "    prefix = 'slab_test',\n",
    "    triangle = 'triangle',\n",
    "    cpts = slab.cpts,\n",
    "    segs = slab.segs,\n",
    "    holes = slab.holes,\n",
    "    zones = slab.zones,\n",
    "    axis_symmetry = slab.axis_symmetry\n",
    "    )\n",
    "mesh.visualize()\n",
    "\n",
    "phys = Physics(\n",
    "    c_ion = [1.0,1.0], #ion concentration at infinity [mol/m^3]\n",
    "    z_ion = [-1.0,1.0], #ion valence or charge number [SI]\n",
    "    mu_a = [5e-8,5e-8], #ion mobility in electrolyte [m^2/(Vs)]\n",
    "    mu_s = 5e-9, #ion mobility in solid [m^2/(Vs)]\n",
    "    rel_perm_a = 80.0, #relative permittivity of electrolyte [SI]\n",
    "    rel_perm_i = 4.5, #relative permittivity of solid [SI]\n",
    "    sigma_solid = -0.01, #surface charge density for solid [C]\n",
    "    temperature = 293.0, #ambient temperature [K]\n",
    "    e_0 = [0.0,0.0], #Ex/Ey at infinity\n",
    "    f_0 = [[0.0,0.0,0.0]], #x/y/charge density at point sources\n",
    "    s_0 = 0.0, #voltage on equipotential surface\n",
    "    is_solid_metal = False, #True if solid is metal otherwise false\n",
    "    )\n",
    "\n",
    "#Overide mesh by import another mesh\n",
    "mesh = Mesh.importer(\n",
    "    prefix = 'slab_2d',\n",
    "    triangle = 'triangle',\n",
    "    axis_symmetry = slab.axis_symmetry,\n",
    "    )\n",
    "\n",
    "mesh.visualize(\n",
    "    edge_flags=[1,2,3,11,12,14],\n",
    "    elem_flags=[2,3]\n",
    "    )\n",
    "\n",
    "def build_f(x,y,*args):\n",
    "    dist = np.sqrt(x**2+y**2)\n",
    "    f = np.zeros_like(dist)\n",
    "    mask = dist>0\n",
    "    f[mask] = np.pi/2.0*(1/dist[mask]*np.sin(np.pi*dist[mask]/2.0)\n",
    "                         +np.pi/2.0*np.cos(np.pi*dist[mask]/2.0))\n",
    "    f[~mask] = np.pi/2.0*(np.pi/2.0+np.pi/2.0)\n",
    "    return f\n",
    "\n",
    "def build_s(x,y,*args):\n",
    "    dist = np.sqrt(x**2+y**2)\n",
    "    s = np.cos(np.pi*dist/2.0)\n",
    "    return s\n",
    "\n",
    "pde = PDE(\n",
    "    c_x = {'is_inside_domain':1.0},\n",
    "    c_y = {'is_inside_domain':1.0},\n",
    "    f_n = {'is_on_inside_domain':build_f},\n",
    "    s_n = {'is_on_outer_bound':build_s},\n",
    "    )\n",
    "\n",
    "domain = Domain(mesh,pde)\n",
    "stern = Stern(mesh,pde)\n",
    "robin = Robin(mesh,pde)\n",
    "dirichlet = Dirichlet(mesh,pde)\n",
    "\n",
    "stat = PDE.init_static(phys)\n",
    "# domain = Domain(mesh,stat)\n",
    "# stern = Stern(mesh,stat)\n",
    "# robin = Robin(mesh,stat)\n",
    "# dirichlet = Dirichlet(mesh,stat)\n",
    "print('Done')"
   ]
  },
  {
   "cell_type": "code",
   "execution_count": null,
   "id": "71db4dff-212c-4e64-a940-a72bc6af18da",
   "metadata": {},
   "outputs": [],
   "source": []
  },
  {
   "cell_type": "markdown",
   "id": "7dbea2db-b223-433e-9302-aab7728294c5",
   "metadata": {},
   "source": [
    "# Psuedo-code"
   ]
  },
  {
   "cell_type": "raw",
   "id": "f6a2ae86-1549-42cb-89d6-79df8792c7be",
   "metadata": {},
   "source": [
    "domain_stat = StaticDomain(slab_mesh,slab_phys,slab_srv)\n",
    "stern_stat = StaticStern(slab_mesh,slab_phys)\n",
    "robin_stat = StaticRobin(slab_mesh,slab_phys)\n",
    "dirichelt_stat = StaticDirichlet(slab_mesh,slab_phys,slab_srv)\n",
    "\n",
    "domain_stat.spy() #self-defined spy plots\n",
    "\n",
    "slab_stat = StaticModel(domain_stat,stern_stat,robin_stat,dirichelt_stat)\n",
    "slab_pert = PerturbedModel(domain_pert,stern_pert,robin_pert,dirichelt_pert,\n",
    "                           slab_stat,slab_srv)\n",
    "slab_pert.K1\n",
    "slab_pert.K6\n",
    "slab_pert.b1\n",
    "slab_pert.b6\n",
    "\n",
    "slab_stat.visualize()"
   ]
  },
  {
   "cell_type": "code",
   "execution_count": null,
   "id": "045ba5e0-63c4-4bea-8551-7568d33b8a53",
   "metadata": {},
   "outputs": [],
   "source": [
    "run_simulation(model,survey)"
   ]
  },
  {
   "cell_type": "code",
   "execution_count": null,
   "id": "b27b20bf-7f11-4eb0-a7b0-23328d04cf10",
   "metadata": {},
   "outputs": [],
   "source": []
  }
 ],
 "metadata": {
  "kernelspec": {
   "display_name": "Python 3 (ipykernel)",
   "language": "python",
   "name": "python3"
  },
  "language_info": {
   "codemirror_mode": {
    "name": "ipython",
    "version": 3
   },
   "file_extension": ".py",
   "mimetype": "text/x-python",
   "name": "python",
   "nbconvert_exporter": "python",
   "pygments_lexer": "ipython3",
   "version": "3.9.7"
  },
  "toc-autonumbering": true
 },
 "nbformat": 4,
 "nbformat_minor": 5
}
