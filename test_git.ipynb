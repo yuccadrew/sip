{
 "cells": [
  {
   "cell_type": "code",
   "execution_count": null,
   "id": "b29b2805-4fb1-49bb-a50f-811062b78484",
   "metadata": {},
   "outputs": [],
   "source": [
    "#This is a test"
   ]
  }
 ],
 "metadata": {
  "kernelspec": {
   "display_name": "Python 3 (ipykernel)",
   "language": "python",
   "name": "python3"
  },
  "language_info": {
   "codemirror_mode": {
    "name": "ipython",
    "version": 3
   },
   "file_extension": ".py",
   "mimetype": "text/x-python",
   "name": "python",
   "nbconvert_exporter": "python",
   "pygments_lexer": "ipython3",
   "version": "3.10.2"
  }
 },
 "nbformat": 4,
 "nbformat_minor": 5
}
