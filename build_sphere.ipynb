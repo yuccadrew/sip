{
 "cells": [
  {
   "cell_type": "markdown",
   "id": "a934a328-5dfa-4a74-86ca-2beab499a773",
   "metadata": {},
   "source": [
    "# Edit control points"
   ]
  },
  {
   "cell_type": "code",
   "execution_count": 14,
   "id": "aaa4b885-2f9a-481b-8f97-b77e422f9486",
   "metadata": {},
   "outputs": [
    {
     "name": "stdout",
     "output_type": "stream",
     "text": [
      "Before scaling\n",
      "Radius of inner sphere 5e-06\n",
      "Radius of middle sphere 6e-06\n",
      "\n",
      "After scaling\n",
      "Radius of inner sphere 4.0\n",
      "Radius of middle sphere 5.0\n",
      "Radius of outer sphere 12.5\n",
      "Half side length of outer box 50.5\n",
      "\n"
     ]
    },
    {
     "data": {
      "image/png": "[encoded data removed]",
      "text/plain": [
       "<Figure size 480x320 with 1 Axes>"
      ]
     },
     "metadata": {
      "needs_background": "light"
     },
     "output_type": "display_data"
    }
   ],
   "source": [
    "import numpy as np\n",
    "import matplotlib.pyplot as plt\n",
    "\n",
    "radius1=4 #inner sphere radius\n",
    "radius2=5 #middle sphere radius\n",
    "radius3=12.5 #outer sphere radius\n",
    "length1=50.5 #outer box half side length\n",
    "\n",
    "sphere2=np.loadtxt('sphere2.cpts',usecols=(1,2,3))\n",
    "s1=sphere2[:242,:] #inner sphere\n",
    "b1=sphere2[242:246,:] #outer box\n",
    "s2=sphere2[246:488,:] #middle sphere\n",
    "s3=np.copy(s2) #outer sphere\n",
    "\n",
    "print('Before scaling')\n",
    "print('Radius of inner sphere',(max(s1[:,0])-min(s1[:,0]))/2)\n",
    "print('Radius of middle sphere',(max(s2[:,0])-min(s2[:,0]))/2)\n",
    "print('')\n",
    "\n",
    "s1=s1/5e-6*radius1 #inner sphere radius 4\n",
    "b1=b1/25e-6*length1 #outer box half side length 50\n",
    "s2=s2/6e-6*radius2 #middle sphere radius 5\n",
    "s3=s3/6e-6*radius3 #outer sphere radius 25\n",
    "\n",
    "print('After scaling')\n",
    "print('Radius of inner sphere',(max(s1[:,0])-min(s1[:,0]))/2)\n",
    "print('Radius of middle sphere',(max(s2[:,0])-min(s2[:,0]))/2)\n",
    "print('Radius of outer sphere',(max(s3[:,0])-min(s3[:,0]))/2)\n",
    "print('Half side length of outer box',(max(b1[:,0])-min(b1[:,0]))/2)\n",
    "print('')\n",
    "\n",
    "fig,ax=plt.subplots(dpi=80)\n",
    "ax.plot(s1[:,0],s1[:,1],'.')\n",
    "# ax.plot(b1[:,0],b1[:,1],'.')\n",
    "ax.plot(s2[:,0],s2[:,1],'.')\n",
    "ax.plot(s3[:,0],s3[:,1],'.')\n",
    "\n",
    "ax.axis('equal')\n",
    "ax.set_xlabel('X (m)')\n",
    "ax.set_ylabel('Y (m)')\n",
    "plt.show()"
   ]
  },
  {
   "cell_type": "markdown",
   "id": "a2d57c0b-ae28-40a2-b588-618533b150f7",
   "metadata": {
    "tags": []
   },
   "source": [
    "# Save control points"
   ]
  },
  {
   "cell_type": "code",
   "execution_count": 15,
   "id": "8f29c1b5-e265-41f8-aa12-58464e912090",
   "metadata": {},
   "outputs": [
    {
     "name": "stdout",
     "output_type": "stream",
     "text": [
      "Done\n"
     ]
    }
   ],
   "source": [
    "#save sphere control points to a file\n",
    "sphere=np.zeros((len(s1)*3+len(b1),5))\n",
    "sphere[:,0]=np.arange(len(sphere))+1\n",
    "\n",
    "ind_s1=np.arange(len(s1)).astype(int)\n",
    "ind_b1=np.arange(len(b1)).astype(int)+len(s1)\n",
    "ind_s2=np.arange(len(s2)).astype(int)+len(s1)+len(b1)\n",
    "ind_s3=np.arange(len(s3)).astype(int)+len(s1)+len(b1)+len(s2)\n",
    "\n",
    "sphere[ind_s1,1:4]=s1 #inner sphere\n",
    "sphere[ind_s1,4]=0 #interior points flag\n",
    "\n",
    "sphere[ind_b1,1:4]=b1 #outer box\n",
    "sphere[ind_b1,4]=2 #boundary points flag\n",
    "\n",
    "sphere[ind_s2,1:4]=s2 #outer sphere\n",
    "sphere[ind_s2,4]=0 #interior points flag\n",
    "\n",
    "sphere[ind_s3,1:4]=s3 #inner box\n",
    "sphere[ind_s3,4]=0 #interior points flag\n",
    "np.savetxt('sphere.cpts',sphere,fmt='%-4d %10.3e %10.3e %10.3e %4d')\n",
    "\n",
    "#save sphere plcs to a file\n",
    "plcs1=np.loadtxt('sphere2.plcs')\n",
    "plcs2=np.copy(plcs1)\n",
    "plcs3=np.copy(plcs1)\n",
    "\n",
    "plcs2[::2,1]=20 #face flag for s2\n",
    "plcs2[::2,2]=plcs2[::2,-1]+len(plcs1)/2\n",
    "plcs2[1::2,]=plcs2[1::2,]+len(s1)+len(b1)\n",
    "\n",
    "plcs3[::2,1]=30\n",
    "plcs3[::2,2]=plcs3[::2,-1]+len(plcs1)\n",
    "plcs3[1::2,]=plcs3[1::2,]+len(s1)+len(b1)+len(s2)\n",
    "\n",
    "plcs=np.r_[plcs1,plcs2,plcs3]\n",
    "np.savetxt('sphere.plcs',plcs,fmt='%d\\t\\t%d\\t\\t%d')\n",
    "print('Done')"
   ]
  },
  {
   "cell_type": "code",
   "execution_count": null,
   "id": "a59ef9ee-952e-48be-8eb6-7f260020471f",
   "metadata": {},
   "outputs": [],
   "source": []
  }
 ],
 "metadata": {
  "kernelspec": {
   "display_name": "Python 3 (ipykernel)",
   "language": "python",
   "name": "python3"
  },
  "language_info": {
   "codemirror_mode": {
    "name": "ipython",
    "version": 3
   },
   "file_extension": ".py",
   "mimetype": "text/x-python",
   "name": "python",
   "nbconvert_exporter": "python",
   "pygments_lexer": "ipython3",
   "version": "3.9.6"
  },
  "toc-autonumbering": true,
  "toc-showcode": true,
  "toc-showmarkdowntxt": false,
  "toc-showtags": false
 },
 "nbformat": 4,
 "nbformat_minor": 5
}
